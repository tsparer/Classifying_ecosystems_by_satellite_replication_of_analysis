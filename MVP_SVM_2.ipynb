{
 "cells": [
  {
   "cell_type": "code",
   "execution_count": 3,
   "metadata": {},
   "outputs": [],
   "source": [
    "import numpy as np\n",
    "import pandas as pd\n",
    "import matplotlib.pyplot as plt\n",
    "from sklearn import svm\n",
    "from sklearn.preprocessing import StandardScaler\n",
    "\n",
    "# This notebook performs supervised classification on a dataset \n",
    "# of satellite images, labeled by the ecosystems that they contain.\n",
    "\n",
    "%matplotlib inline"
   ]
  },
  {
   "cell_type": "code",
   "execution_count": 4,
   "metadata": {},
   "outputs": [],
   "source": [
    "# Import training and test datasets, create train test split\n",
    "forest_train_set = pd.read_csv('training.csv')\n",
    "forest_test_set  = pd.read_csv(\"testing.csv\")\n",
    "\n",
    "\n",
    "scaler_1 = StandardScaler()\n",
    "y_train = forest_train_set[\"class\"]\n",
    "X_train = forest_train_set[[\"b1\",\"b2\",\"b3\",\"b4\",\"b5\",\"b6\",\"b7\",\"b8\",\"b9\"]]\n",
    "X_train_s = scaler_1.fit_transform(X_train)\n",
    "\n",
    "\n",
    "y_test = forest_test_set[\"class\"]\n",
    "X_test = forest_test_set[[\"b1\",\"b2\",\"b3\",\"b4\",\"b5\",\"b6\",\"b7\",\"b8\",\"b9\"]]\n",
    "X_test_s = scaler_1.transform(X_test)\n",
    "# Maker sure to scale by using Standard Scaler\n",
    "#scaler = preprocessing.StandardScaler()\n",
    "#scaled_df = scaler.fit_transform(df)"
   ]
  },
  {
   "cell_type": "code",
   "execution_count": 5,
   "metadata": {},
   "outputs": [
    {
     "data": {
      "text/html": [
       "<div>\n",
       "<style scoped>\n",
       "    .dataframe tbody tr th:only-of-type {\n",
       "        vertical-align: middle;\n",
       "    }\n",
       "\n",
       "    .dataframe tbody tr th {\n",
       "        vertical-align: top;\n",
       "    }\n",
       "\n",
       "    .dataframe thead th {\n",
       "        text-align: right;\n",
       "    }\n",
       "</style>\n",
       "<table border=\"1\" class=\"dataframe\">\n",
       "  <thead>\n",
       "    <tr style=\"text-align: right;\">\n",
       "      <th></th>\n",
       "      <th>b1</th>\n",
       "      <th>b2</th>\n",
       "      <th>b3</th>\n",
       "      <th>b4</th>\n",
       "      <th>b5</th>\n",
       "      <th>b6</th>\n",
       "      <th>b7</th>\n",
       "      <th>b8</th>\n",
       "      <th>b9</th>\n",
       "      <th>pred_minus_obs_H_b1</th>\n",
       "      <th>...</th>\n",
       "      <th>pred_minus_obs_H_b9</th>\n",
       "      <th>pred_minus_obs_S_b1</th>\n",
       "      <th>pred_minus_obs_S_b2</th>\n",
       "      <th>pred_minus_obs_S_b3</th>\n",
       "      <th>pred_minus_obs_S_b4</th>\n",
       "      <th>pred_minus_obs_S_b5</th>\n",
       "      <th>pred_minus_obs_S_b6</th>\n",
       "      <th>pred_minus_obs_S_b7</th>\n",
       "      <th>pred_minus_obs_S_b8</th>\n",
       "      <th>pred_minus_obs_S_b9</th>\n",
       "    </tr>\n",
       "    <tr>\n",
       "      <th>class</th>\n",
       "      <th></th>\n",
       "      <th></th>\n",
       "      <th></th>\n",
       "      <th></th>\n",
       "      <th></th>\n",
       "      <th></th>\n",
       "      <th></th>\n",
       "      <th></th>\n",
       "      <th></th>\n",
       "      <th></th>\n",
       "      <th></th>\n",
       "      <th></th>\n",
       "      <th></th>\n",
       "      <th></th>\n",
       "      <th></th>\n",
       "      <th></th>\n",
       "      <th></th>\n",
       "      <th></th>\n",
       "      <th></th>\n",
       "      <th></th>\n",
       "      <th></th>\n",
       "    </tr>\n",
       "  </thead>\n",
       "  <tbody>\n",
       "    <tr>\n",
       "      <th>d</th>\n",
       "      <td>105</td>\n",
       "      <td>105</td>\n",
       "      <td>105</td>\n",
       "      <td>105</td>\n",
       "      <td>105</td>\n",
       "      <td>105</td>\n",
       "      <td>105</td>\n",
       "      <td>105</td>\n",
       "      <td>105</td>\n",
       "      <td>105</td>\n",
       "      <td>...</td>\n",
       "      <td>105</td>\n",
       "      <td>105</td>\n",
       "      <td>105</td>\n",
       "      <td>105</td>\n",
       "      <td>105</td>\n",
       "      <td>105</td>\n",
       "      <td>105</td>\n",
       "      <td>105</td>\n",
       "      <td>105</td>\n",
       "      <td>105</td>\n",
       "    </tr>\n",
       "    <tr>\n",
       "      <th>h</th>\n",
       "      <td>38</td>\n",
       "      <td>38</td>\n",
       "      <td>38</td>\n",
       "      <td>38</td>\n",
       "      <td>38</td>\n",
       "      <td>38</td>\n",
       "      <td>38</td>\n",
       "      <td>38</td>\n",
       "      <td>38</td>\n",
       "      <td>38</td>\n",
       "      <td>...</td>\n",
       "      <td>38</td>\n",
       "      <td>38</td>\n",
       "      <td>38</td>\n",
       "      <td>38</td>\n",
       "      <td>38</td>\n",
       "      <td>38</td>\n",
       "      <td>38</td>\n",
       "      <td>38</td>\n",
       "      <td>38</td>\n",
       "      <td>38</td>\n",
       "    </tr>\n",
       "    <tr>\n",
       "      <th>o</th>\n",
       "      <td>46</td>\n",
       "      <td>46</td>\n",
       "      <td>46</td>\n",
       "      <td>46</td>\n",
       "      <td>46</td>\n",
       "      <td>46</td>\n",
       "      <td>46</td>\n",
       "      <td>46</td>\n",
       "      <td>46</td>\n",
       "      <td>46</td>\n",
       "      <td>...</td>\n",
       "      <td>46</td>\n",
       "      <td>46</td>\n",
       "      <td>46</td>\n",
       "      <td>46</td>\n",
       "      <td>46</td>\n",
       "      <td>46</td>\n",
       "      <td>46</td>\n",
       "      <td>46</td>\n",
       "      <td>46</td>\n",
       "      <td>46</td>\n",
       "    </tr>\n",
       "    <tr>\n",
       "      <th>s</th>\n",
       "      <td>136</td>\n",
       "      <td>136</td>\n",
       "      <td>136</td>\n",
       "      <td>136</td>\n",
       "      <td>136</td>\n",
       "      <td>136</td>\n",
       "      <td>136</td>\n",
       "      <td>136</td>\n",
       "      <td>136</td>\n",
       "      <td>136</td>\n",
       "      <td>...</td>\n",
       "      <td>136</td>\n",
       "      <td>136</td>\n",
       "      <td>136</td>\n",
       "      <td>136</td>\n",
       "      <td>136</td>\n",
       "      <td>136</td>\n",
       "      <td>136</td>\n",
       "      <td>136</td>\n",
       "      <td>136</td>\n",
       "      <td>136</td>\n",
       "    </tr>\n",
       "  </tbody>\n",
       "</table>\n",
       "<p>4 rows × 27 columns</p>\n",
       "</div>"
      ],
      "text/plain": [
       "        b1   b2   b3   b4   b5   b6   b7   b8   b9  pred_minus_obs_H_b1  \\\n",
       "class                                                                     \n",
       "d      105  105  105  105  105  105  105  105  105                  105   \n",
       "h       38   38   38   38   38   38   38   38   38                   38   \n",
       "o       46   46   46   46   46   46   46   46   46                   46   \n",
       "s      136  136  136  136  136  136  136  136  136                  136   \n",
       "\n",
       "              ...           pred_minus_obs_H_b9  pred_minus_obs_S_b1  \\\n",
       "class         ...                                                      \n",
       "d             ...                           105                  105   \n",
       "h             ...                            38                   38   \n",
       "o             ...                            46                   46   \n",
       "s             ...                           136                  136   \n",
       "\n",
       "       pred_minus_obs_S_b2  pred_minus_obs_S_b3  pred_minus_obs_S_b4  \\\n",
       "class                                                                  \n",
       "d                      105                  105                  105   \n",
       "h                       38                   38                   38   \n",
       "o                       46                   46                   46   \n",
       "s                      136                  136                  136   \n",
       "\n",
       "       pred_minus_obs_S_b5  pred_minus_obs_S_b6  pred_minus_obs_S_b7  \\\n",
       "class                                                                  \n",
       "d                      105                  105                  105   \n",
       "h                       38                   38                   38   \n",
       "o                       46                   46                   46   \n",
       "s                      136                  136                  136   \n",
       "\n",
       "       pred_minus_obs_S_b8  pred_minus_obs_S_b9  \n",
       "class                                            \n",
       "d                      105                  105  \n",
       "h                       38                   38  \n",
       "o                       46                   46  \n",
       "s                      136                  136  \n",
       "\n",
       "[4 rows x 27 columns]"
      ]
     },
     "execution_count": 5,
     "metadata": {},
     "output_type": "execute_result"
    }
   ],
   "source": [
    "forest_train_set.groupby(by = \"class\").count()\n",
    "forest_test_set.groupby(by = \"class\").count()\n"
   ]
  },
  {
   "cell_type": "code",
   "execution_count": 6,
   "metadata": {},
   "outputs": [
    {
     "data": {
      "text/plain": [
       "array([[-1.8787969 , -0.28223274, -0.3865936 , ...,  0.15428138,\n",
       "        -0.18893459, -0.11433257],\n",
       "       [ 1.6513761 , -0.61954914, -0.3865936 , ...,  0.08997041,\n",
       "        -0.3006034 ,  0.09053484],\n",
       "       [-0.78052085, -0.90064614, -0.84980409, ..., -0.4245174 ,\n",
       "        -0.3006034 , -0.31919997],\n",
       "       ...,\n",
       "       [ 1.25913466, -0.61954914, -0.50239623, ...,  1.18325699,\n",
       "        -0.4122722 , -0.21676627],\n",
       "       [ 0.47465177, -0.78820734, -0.61819885, ..., -0.23158447,\n",
       "        -0.523941  , -0.62650107],\n",
       "       [ 1.33758295, -0.67576854, -0.50239623, ...,  0.73308016,\n",
       "        -0.4122722 , -0.21676627]])"
      ]
     },
     "execution_count": 6,
     "metadata": {},
     "output_type": "execute_result"
    }
   ],
   "source": [
    "X_train_s"
   ]
  },
  {
   "cell_type": "code",
   "execution_count": 8,
   "metadata": {},
   "outputs": [
    {
     "data": {
      "text/plain": [
       "SVC(C=1010, cache_size=200, class_weight=None, coef0=0.0,\n",
       "  decision_function_shape='ovr', degree=3, gamma=1.95, kernel='rbf',\n",
       "  max_iter=-1, probability=False, random_state=None, shrinking=True,\n",
       "  tol=0.001, verbose=False)"
      ]
     },
     "execution_count": 8,
     "metadata": {},
     "output_type": "execute_result"
    }
   ],
   "source": [
    "#one vs. rest svm, my naive test, with rbf and an arbitrary value \n",
    "# for C\n",
    "\n",
    "# Test using the value from the literature c = 1010, gamma = 1.95\n",
    "n_svm = svm.SVC(kernel = \"rbf\", C = 1010, gamma = 1.95)\n",
    "n_svm.fit(X_train_s, y_train)\n"
   ]
  },
  {
   "cell_type": "code",
   "execution_count": 11,
   "metadata": {},
   "outputs": [],
   "source": [
    "import pickle\n",
    "\n",
    "pickle.dump(n_svm.fit, open(\"pickled_svm.p\", \"wb\"))\n",
    "#scaler_1.mean_\n",
    "#scaler_1\n",
    "#pickle.dump\n",
    "\n",
    "#pickle.dump(lreg, open(\"pickled_linear_regressions.p\", \"wb\"))"
   ]
  },
  {
   "cell_type": "code",
   "execution_count": 12,
   "metadata": {},
   "outputs": [
    {
     "name": "stdout",
     "output_type": "stream",
     "text": [
      "['o ' 's ' 's ' 'd ' 's ' 'd ' 'h ' 's ' 'h ' 'd ' 's ' 'o ' 'd ' 'h '\n",
      " 'o ' 's ' 'o ' 'o ' 's ' 'o ' 'o ' 'd ' 'd ' 's ' 's ' 's ' 'h ' 'd '\n",
      " 's ' 'd ' 's ' 'o ' 's ' 's ' 'o ' 'd ' 'd ' 'd ' 'h ' 'o ' 'd ' 'h '\n",
      " 'o ' 'o ' 's ' 'o ' 's ' 's ' 'h ' 's ' 'o ' 'o ' 'h ' 'h ' 'd ' 's '\n",
      " 'h ' 'o ' 's ' 's ' 's ' 'd ' 's ' 's ' 'h ' 's ' 'd ' 'h ' 'd ' 's '\n",
      " 's ' 'd ' 'o ' 's ' 'h ' 's ' 's ' 's ' 's ' 's ' 'd ' 's ' 'h ' 'h '\n",
      " 'd ' 's ' 's ' 'o ' 'd ' 's ' 'o ' 'd ' 's ' 's ' 's ' 'd ' 'd ' 's '\n",
      " 'd ' 'o ' 'h ' 'h ' 's ' 's ' 's ' 'h ' 'd ' 'o ' 'o ' 's ' 'o ' 'd '\n",
      " 'o ' 's ' 'd ' 'o ' 'o ' 's ' 's ' 'h ' 'd ' 'h ' 'd ' 's ' 's ' 'h '\n",
      " 'd ' 'd ' 'd ' 'o ' 'd ' 'd ' 'h ' 's ' 'd ' 's ' 'o ' 'd ' 'o ' 'd '\n",
      " 'd ' 'd ' 's ' 'o ' 's ' 'd ' 'd ' 'o ' 's ' 'h ' 'h ' 'd ' 'o ' 'd '\n",
      " 'o ' 'd ' 'o ' 'd ' 'h ' 'd ' 's ' 'o ' 'd ' 's ' 's ' 's ' 'd ' 'o '\n",
      " 's ' 's ' 's ' 'o ' 'd ' 's ' 's ' 'h ' 'd ' 's ' 'd ' 'd ' 'o ' 'd '\n",
      " 's ' 'd ' 'd ' 's ' 'd ' 'o ' 'd ' 's ' 'o ' 's ' 'o ' 'h ' 'd ' 'o '\n",
      " 'h ' 's ' 'd ' 'h ' 's ' 'd ' 'd ' 's ' 's ' 's ' 'o ' 's ' 's ' 's '\n",
      " 'o ' 'o ' 'd ' 'd ' 'd ' 'o ' 'h ' 's ' 'd ' 's ' 's ' 's ' 'h ' 'h '\n",
      " 's ' 'd ' 's ' 's ' 'o ' 's ' 'd ' 'o ' 's ' 's ' 'd ' 'd ' 's ' 'o '\n",
      " 'd ' 'd ' 'o ' 'o ' 'o ' 's ' 'o ' 's ' 's ' 'd ' 's ' 'o ' 's ' 'd '\n",
      " 's ' 'o ' 'd ' 'd ' 's ' 'o ' 's ' 's ' 'd ' 'd ' 's ' 's ' 's ' 's '\n",
      " 's ' 's ' 'o ' 's ' 'd ' 's ' 's ' 'o ' 's ' 's ' 's ' 'd ' 'd ' 'o '\n",
      " 'd ' 'o ' 'h ' 'd ' 'h ' 'd ' 'o ' 's ' 'o ' 'h ' 's ' 'd ' 's ' 's '\n",
      " 'h ' 's ' 's ' 's ' 's ' 'o ' 's ' 's ' 'h ' 'h ' 'd ' 's ' 'o ' 'o '\n",
      " 's ' 'h ' 'o ' 's ' 's ' 's ' 's ' 'h ' 's ' 'h ' 's ' 'd ' 'o ' 'o '\n",
      " 'o ' 's ' 'h ']\n",
      "0      d \n",
      "1      s \n",
      "2      s \n",
      "3      d \n",
      "4      s \n",
      "5      d \n",
      "6      h \n",
      "7      o \n",
      "8      s \n",
      "9      d \n",
      "10     s \n",
      "11     o \n",
      "12     d \n",
      "13     s \n",
      "14     o \n",
      "15     s \n",
      "16     o \n",
      "17     d \n",
      "18     s \n",
      "19     o \n",
      "20     o \n",
      "21     d \n",
      "22     d \n",
      "23     s \n",
      "24     s \n",
      "25     s \n",
      "26     d \n",
      "27     d \n",
      "28     s \n",
      "29     d \n",
      "       ..\n",
      "295    s \n",
      "296    s \n",
      "297    s \n",
      "298    s \n",
      "299    d \n",
      "300    s \n",
      "301    s \n",
      "302    h \n",
      "303    h \n",
      "304    d \n",
      "305    s \n",
      "306    d \n",
      "307    s \n",
      "308    h \n",
      "309    h \n",
      "310    o \n",
      "311    s \n",
      "312    s \n",
      "313    h \n",
      "314    s \n",
      "315    h \n",
      "316    s \n",
      "317    h \n",
      "318    s \n",
      "319    o \n",
      "320    o \n",
      "321    d \n",
      "322    s \n",
      "323    s \n",
      "324    h \n",
      "Name: class, Length: 325, dtype: object\n",
      "[[ 80   1  19   5]\n",
      " [  0  29   2   7]\n",
      " [  4   0  41   1]\n",
      " [  2  12   7 115]]\n",
      "0.8153846153846154\n"
     ]
    }
   ],
   "source": [
    "from sklearn import metrics\n",
    "\n",
    "predictions = n_svm.predict(X_test_s)\n",
    "c_matrix= metrics.confusion_matrix(y_test, predictions)\n",
    "quick_score = n_svm.score(X_test_s, y_test)\n",
    "\n",
    "print(predictions)\n",
    "print(y_test)\n",
    "\n",
    "print(c_matrix)\n",
    "print(quick_score)\n",
    "\n",
    "# looking at the confusion matrix, it seems to be overclassifying\n",
    "#wha [\"d\",\"h\",\"o\",\"s\"]\n",
    "# Seems to be overclassifying the Shugi forest\n",
    "# Not very accurate?\n",
    "\n",
    "# was throwing some kind of error when I tried to print all the labels\n",
    "# labels=np.array([\"d\",\"h\",\"o\",\"s\"]) <-- was included in c_matrix\n",
    "\n",
    "\n",
    "# Note- values when C= 5, and gamma = auto\n",
    "#[[  4   0   0 101]\n",
    "# [  0  12   0  26]\n",
    "# [  0   0   0  46]\n",
    "# [  0   1   0 135]]\n",
    "# 0.464615384615\n",
    "\n",
    "# Compare to  the values from literature- gamma = 1.95\n",
    "# and c = 1010:\n",
    "\n",
    "#[[  0   0   0 105]\n",
    "# [  0   0   0  38]\n",
    "# [  0   0   0  46]\n",
    "# [  0   0   0 136]]\n",
    "# 0.418461538462\n",
    "\n",
    "# the lit values actually do worse?\n",
    "# it seems to push things in teh direction of classifying everything\n",
    "# as sugi\n",
    "# Note 136 is the correct number of sugi classification\n",
    "\n",
    "\n",
    "# FORGOT TO SCALE\n",
    "# http://benalexkeen.com/feature-scaling-with-scikit-learn/\n",
    "# http://scikit-learn.org/stable/modules/generated/sklearn.preprocessing.StandardScaler.html\n",
    "# Accuracy improved once scaled\n",
    "\n",
    "\n",
    "# \"h\" = hinoki = cypress\n",
    "#  \"s\" = sugi = cedar\n",
    "#  d = decidious\n",
    "#  o = other,\n",
    "# (note on confusion matrices: columns are predicted, rows are actual)\n",
    "# [\"d\",\"h\",\"o\",\"s\"]\n",
    "#  [[70  1 29  5]\n",
    "# [ 0 27  6  5]\n",
    "# [ 5  0 41  0]\n",
    "# [ 1 33 16 86]]\n",
    "# 0.689230769231\n",
    "\n",
    "\n",
    "# Improved Accuracy after correcting the standardization issue:\n",
    "# October 3\n",
    "\n",
    "#[[ 80   1  19   5]\n",
    "# [  0  29   2   7]\n",
    "# [  4   0  41   1]\n",
    "# [  2  12   7 115]]\n",
    "#0.8153846153846154"
   ]
  },
  {
   "cell_type": "code",
   "execution_count": null,
   "metadata": {},
   "outputs": [],
   "source": []
  },
  {
   "cell_type": "code",
   "execution_count": 13,
   "metadata": {},
   "outputs": [],
   "source": [
    "# Test using the value from the literature c = 1010, gamma = 1.95\n",
    "#n_svm = svm.SVC(kernel = \"rbf\", C = 1010, gamma = 1.95)\n",
    "#n_svm.fit(X_train_s, y_train)"
   ]
  },
  {
   "cell_type": "code",
   "execution_count": 14,
   "metadata": {},
   "outputs": [
    {
     "name": "stdout",
     "output_type": "stream",
     "text": [
      "{'C': 400, 'kernel': 'linear'}\n"
     ]
    }
   ],
   "source": [
    "from sklearn.model_selection import GridSearchCV\n",
    "from sklearn.metrics import classification_report\n",
    "from sklearn.svm import SVC\n",
    "# Grid Search-\n",
    "#  \n",
    "param_grid = [{'C': np.arange(100, 2000, 50), 'kernel':['linear']},\n",
    "              {'C': np.arange(100, 2000, 20), 'gamma': np.arange(\n",
    "              1, 3, .05), 'kernel':['rbf']}\n",
    "             ]\n",
    "\n",
    "svm_param_search = GridSearchCV(SVC(), param_grid, cv = 5, scoring = 'accuracy')\n",
    "svm_param_search.fit(X_train_s, y_train)\n",
    "print (svm_param_search.best_params_)\n",
    "\n",
    "\n",
    "#{'C': 100, 'kernel': 'linear'}\n",
    "\n",
    "\n",
    "\n",
    "#clf = GridSearchCV(SVC(), tuned_parameters, cv=5,\n",
    "#                       scoring='%s_macro' % score)\n",
    "#    clf.fit(X_train, y_train)\n",
    "#param_grid = [\n",
    "# {'C': [1, 10, 100, 1000], 'kernel': ['linear']},\n",
    "#  {'C': [1, 10, 100, 1000], 'gamma': [0.001, 0.0001], 'kernel': ['rbf']},\n",
    "# ]\n",
    "\n",
    "#http://scikit-learn.org/stable/auto_examples/model_selection/plot_grid_search_digits.html#sphx-glr-auto-examples-model-selection-plot-grid-search-digits-py"
   ]
  },
  {
   "cell_type": "code",
   "execution_count": 15,
   "metadata": {},
   "outputs": [
    {
     "name": "stdout",
     "output_type": "stream",
     "text": [
      "0.8153846153846154\n",
      "[[ 85   3  10   7]\n",
      " [  0  27   0  11]\n",
      " [ 11   0  33   2]\n",
      " [  3  17   0 116]]\n"
     ]
    }
   ],
   "source": [
    "best_svm = svm.SVC(kernel = \"linear\", C = 400)\n",
    "best_svm.fit(X_train_s, y_train)\n",
    "\n",
    "\n",
    "predictions_bsvm = best_svm.predict(X_test_s)\n",
    "c_matrix= metrics.confusion_matrix(y_test, predictions_bsvm)\n",
    "quick_score = n_svm.score(X_test_s, y_test)\n",
    "print(quick_score)\n",
    "print(c_matrix)\n",
    "\n",
    "#  predicted label\n",
    "# [ \"d\",\"h\",\"o\",\"s\"]\n",
    "#d  [[79  4 16  6]    79/105\n",
    "#h   [ 0 32  0  6]    32/38\n",
    "# o  [10  0 35  1]    35/46\n",
    "# s  [ 2 38  0 96]]   96/136\n",
    "\n",
    "#Misclassifies hinoki as sugi"
   ]
  },
  {
   "cell_type": "code",
   "execution_count": null,
   "metadata": {
    "collapsed": true
   },
   "outputs": [],
   "source": [
    "# Grid search and testing on other algorithms\n",
    "# logistic_reg\n",
    "# random_forest\n",
    "# naive_bayes\n",
    "\n",
    "# form-\n",
    "# param_grid\n",
    "# param_search_obj\n",
    "# fit on training set\n",
    "# get best params\n",
    "# get accuracy/cf of best model\n",
    "\n",
    "# compare across models\n",
    "\n",
    "\n",
    "\n",
    "\n",
    "\n"
   ]
  },
  {
   "cell_type": "code",
   "execution_count": 16,
   "metadata": {},
   "outputs": [
    {
     "name": "stdout",
     "output_type": "stream",
     "text": [
      "[0.92682927 0.85365854 0.95       0.97435897 0.94594595]\n",
      "0.8184615384615385\n"
     ]
    }
   ],
   "source": [
    "from sklearn import naive_bayes\n",
    "from sklearn import metrics\n",
    "\n",
    "\n",
    "\n",
    "nb_clf = naive_bayes.GaussianNB()\n",
    "\n",
    "from sklearn.model_selection import cross_val_score\n",
    "\n",
    "print(cross_val_score(nb_clf, X_train_s, y_train, cv=5))\n",
    "\n",
    "\n",
    "nb_clf.fit(X_train_s, y_train)\n",
    "y_pred = nb_clf.predict(X_test_s)\n",
    "print(metrics.accuracy_score(y_test, y_pred))\n",
    "# acc = .72\n",
    "\n",
    "\n"
   ]
  },
  {
   "cell_type": "code",
   "execution_count": 72,
   "metadata": {},
   "outputs": [
    {
     "name": "stdout",
     "output_type": "stream",
     "text": [
      "[ 0.92682927  0.85365854  0.95        0.97435897  0.94594595]\n"
     ]
    }
   ],
   "source": []
  },
  {
   "cell_type": "code",
   "execution_count": 74,
   "metadata": {},
   "outputs": [],
   "source": [
    "# Don't bother with logistic reg- b.c. one vs. rest seems trickier \n",
    "# to interpret\n",
    "\n",
    "#from sklearn import linear_model\n",
    "#lr_clf = linear_model.LinearRegression()\n",
    "#lr_clf.fit(X_train_s, y_train)\n",
    "#lr_clf.predict(X_test)\n",
    "#print(metrics.accuracy_score(y_test, y_pred))\n",
    "# not going to paramater tune using lasso or ridge, b.c. only 9 features"
   ]
  },
  {
   "cell_type": "code",
   "execution_count": 17,
   "metadata": {},
   "outputs": [
    {
     "name": "stderr",
     "output_type": "stream",
     "text": [
      "/Users/tim/anaconda/lib/python3.6/site-packages/sklearn/ensemble/weight_boosting.py:29: DeprecationWarning: numpy.core.umath_tests is an internal NumPy module and should not be imported. It will be removed in a future NumPy release.\n",
      "  from numpy.core.umath_tests import inner1d\n"
     ]
    },
    {
     "name": "stdout",
     "output_type": "stream",
     "text": [
      "{'max_features': 5, 'n_estimators': 30}\n"
     ]
    }
   ],
   "source": [
    "# Random Forest:  Random Forest seems kind of weird, because the \n",
    "# suggested/default number of features per tree is 3 (root(feat))\n",
    "# small - try it anyway\n",
    "\n",
    "from sklearn.ensemble import RandomForestClassifier\n",
    "\n",
    "rfc = RandomForestClassifier()\n",
    "\n",
    "# params of interest #  n_estimators=10, criterion=’gini’, \n",
    "# max_depth=None, min_samples_split=2, min_samples_leaf=1, \n",
    "# min_weight_fraction_leaf=0.0, max_features=’auto’,\n",
    "\n",
    "param_grid = [{'n_estimators': np.arange(10, 50, 10), \n",
    "               'max_features':np.arange(3,8) } ]\n",
    "             \n",
    "\n",
    "\n",
    "rfc_gs = GridSearchCV(RandomForestClassifier(), param_grid, cv = 5, scoring = 'accuracy')\n",
    "rfc_gs.fit(X_train_s, y_train)\n",
    "print (rfc_gs.best_params_)\n",
    "\n",
    "\n",
    "\n",
    "\n",
    "\n",
    "#param_grid = [{'C': np.arange(100, 2000, 50), 'kernel':['linear']},\n",
    " #             {'C': np.arange(100, 2000, 20), 'gamma': np.arange(\n",
    "  #            1, 3, .05), 'kernel':['rbf']}\n",
    "   #          ]\n",
    "\n",
    "#svm_param_search = GridSearchCV(SVC(), param_grid, cv = 5, scoring = 'accuracy')\n",
    "#svm_param_search.fit(X_train_s, y_train)\n",
    "#print (svm_param_search.best_params_)\n",
    "# {'max_features': 6, 'n_estimators': 10}  <- should I be worried that\n",
    "# this max feature doesn't align with the default? overfitting?"
   ]
  },
  {
   "cell_type": "code",
   "execution_count": 18,
   "metadata": {},
   "outputs": [
    {
     "name": "stdout",
     "output_type": "stream",
     "text": [
      "0.8\n"
     ]
    }
   ],
   "source": [
    "rfc_best = RandomForestClassifier(max_features = 6, n_estimators = 10)\n",
    "rfc_best.fit(X_train_s, y_train)\n",
    "rfc_pred = rfc_best.predict(X_test_s)\n",
    "print(metrics.accuracy_score(y_test, rfc_pred))\n",
    "\n",
    "#predictions_bsvm = best_svm.predict(X_test_s)\n",
    "#c_matrix= metrics.confusion_matrix(y_test, predictions_bsvm)\n",
    "#quick_score = n_svm.score(X_test_s, y_test)\n",
    "#print(quick_score)\n",
    "#print(c_matrix)"
   ]
  },
  {
   "cell_type": "code",
   "execution_count": 19,
   "metadata": {},
   "outputs": [
    {
     "name": "stdout",
     "output_type": "stream",
     "text": [
      "[[ 85   3  10   7]\n",
      " [  0  27   0  11]\n",
      " [ 11   0  33   2]\n",
      " [  3  17   0 116]]\n"
     ]
    },
    {
     "data": {
      "image/png": "[encoded data removed]",
      "text/plain": [
       "<matplotlib.figure.Figure at 0x1a243b5518>"
      ]
     },
     "metadata": {},
     "output_type": "display_data"
    }
   ],
   "source": [
    "# Cm recipe from- https://stackoverflow.com/questions/19233771/sklearn-plot-confusion-matrix-with-labels/31720054\n",
    "# but doesn't seem what I want\n",
    "labels = ['deciduous','cypress','other',\"cedar\"]\n",
    "print(c_matrix)\n",
    "fig = plt.figure()\n",
    "ax = fig.add_subplot(111)\n",
    "cax = ax.matshow(c_matrix)\n",
    "plt.title('Confusion matrix of the classifier')\n",
    "fig.colorbar(cax)\n",
    "ax.set_xticklabels([''] + labels)\n",
    "ax.set_yticklabels([''] + labels)\n",
    "plt.xlabel('Predicted')\n",
    "plt.ylabel('True')\n",
    "plt.show()\n",
    "\n",
    "\n",
    "#true pos rate\n",
    "#0.7523809523809524\n",
    "#0.8421052631578947\n",
    "#0.7608695652173914\n",
    "#0.7058823529411765\n"
   ]
  },
  {
   "cell_type": "code",
   "execution_count": 20,
   "metadata": {},
   "outputs": [
    {
     "data": {
      "text/plain": [
       "<matplotlib.axes._subplots.AxesSubplot at 0x1a23ce8b38>"
      ]
     },
     "execution_count": 20,
     "metadata": {},
     "output_type": "execute_result"
    },
    {
     "data": {
      "image/png": "[encoded data removed]",
      "text/plain": [
       "<matplotlib.figure.Figure at 0x1a243b5a20>"
      ]
     },
     "metadata": {},
     "output_type": "display_data"
    }
   ],
   "source": [
    "import seaborn as sn\n",
    "import pandas as pd\n",
    "import matplotlib.pyplot as plt\n",
    "\n",
    "sn.set(font_scale=1.4)#for label size\n",
    "sn.heatmap(c_matrix, annot=True,annot_kws={\"size\": 16})# font size"
   ]
  },
  {
   "cell_type": "code",
   "execution_count": 21,
   "metadata": {},
   "outputs": [
    {
     "name": "stdout",
     "output_type": "stream",
     "text": [
      "true pos rate\n",
      "0.7523809523809524\n",
      "0.8421052631578947\n",
      "0.7608695652173914\n",
      "0.7058823529411765\n"
     ]
    }
   ],
   "source": [
    "print(\"true pos rate\")\n",
    "print(79/105) #d\n",
    "print(32/38) # h <- tends to classify this correctly, but then over classifies the related forest type\n",
    "print(35/46) #o\n",
    "print(96/136) #s <- underclassifies"
   ]
  },
  {
   "cell_type": "code",
   "execution_count": 22,
   "metadata": {},
   "outputs": [
    {
     "data": {
      "text/plain": [
       "array([[0.80952381, 0.02857143, 0.0952381 , 0.06666667],\n",
       "       [0.        , 0.71052632, 0.        , 0.28947368],\n",
       "       [0.23913043, 0.        , 0.7173913 , 0.04347826],\n",
       "       [0.02205882, 0.125     , 0.        , 0.85294118]])"
      ]
     },
     "execution_count": 22,
     "metadata": {},
     "output_type": "execute_result"
    }
   ],
   "source": [
    "true_d_per = list(np.divide(c_matrix[0],105))\n",
    "true_cyp_per=  list(np.divide(c_matrix[1], 38))\n",
    "true_o_per = list(np.divide(c_matrix[2], 46))\n",
    "true_ced_per = list(np.divide(c_matrix[3], 136) )\n",
    "\n",
    "conf_mat_per = [true_d_per, true_cyp_per, true_o_per, true_ced_per]\n",
    "conf_mat_per\n",
    "confusion_matrix_as_percent = np.array(conf_mat_per)\n",
    "confusion_matrix_as_percent\n"
   ]
  },
  {
   "cell_type": "code",
   "execution_count": 23,
   "metadata": {},
   "outputs": [
    {
     "data": {
      "text/plain": [
       "array([[0.80952381, 0.02857143, 0.0952381 , 0.06666667],\n",
       "       [0.        , 0.71052632, 0.        , 0.28947368],\n",
       "       [0.23913043, 0.        , 0.7173913 , 0.04347826],\n",
       "       [0.02205882, 0.125     , 0.        , 0.85294118]])"
      ]
     },
     "execution_count": 23,
     "metadata": {},
     "output_type": "execute_result"
    }
   ],
   "source": [
    "confusion_matrix_as_percent"
   ]
  },
  {
   "cell_type": "code",
   "execution_count": 24,
   "metadata": {},
   "outputs": [
    {
     "data": {
      "text/plain": [
       "<matplotlib.axes._subplots.AxesSubplot at 0x1a23e92208>"
      ]
     },
     "execution_count": 24,
     "metadata": {},
     "output_type": "execute_result"
    },
    {
     "data": {
      "image/png": "[encoded data removed]",
      "text/plain": [
       "<matplotlib.figure.Figure at 0x11166aa90>"
      ]
     },
     "metadata": {},
     "output_type": "display_data"
    }
   ],
   "source": [
    "import seaborn as sn\n",
    "import pandas as pd\n",
    "import matplotlib.pyplot as plt\n",
    "ticklabels = ['deciduous','cypress','other',\"cedar\"] \n",
    "sn.set(font_scale=1.4)#for label size\n",
    "sn.heatmap(confusion_matrix_as_percent, annot=True,\n",
    "           xticklabels = ticklabels, yticklabels =ticklabels, \n",
    "           annot_kws={\"size\": 16})# font size"
   ]
  },
  {
   "cell_type": "code",
   "execution_count": 25,
   "metadata": {},
   "outputs": [
    {
     "data": {
      "text/plain": [
       "array([0.02205882, 0.125     , 0.        , 0.85294118])"
      ]
     },
     "execution_count": 25,
     "metadata": {},
     "output_type": "execute_result"
    }
   ],
   "source": [
    "np.divide(c_matrix[0],105)\n",
    "np.divide(c_matrix[1], 38)\n",
    "np.divide(c_matrix[2], 46)\n",
    "np.divide(c_matrix[3], 136) \n"
   ]
  },
  {
   "cell_type": "code",
   "execution_count": null,
   "metadata": {},
   "outputs": [],
   "source": []
  },
  {
   "cell_type": "code",
   "execution_count": null,
   "metadata": {
    "collapsed": true
   },
   "outputs": [],
   "source": [
    "# True totals for test split\n",
    "#d 105 \n",
    "#h 38 \n",
    "#o 46 \n",
    "#s 136"
   ]
  },
  {
   "cell_type": "code",
   "execution_count": null,
   "metadata": {
    "collapsed": true
   },
   "outputs": [],
   "source": [
    "\n",
    "# Don't run Just Recopied notes from SKlearn\n",
    "\n",
    "# Then do a grid search over the parameter space\n",
    "#  from sklearn.model_selection import GridSearchCV\n",
    "\n",
    "\n",
    " Split the dataset in two equal parts\n",
    "X_train, X_test, y_train, y_test = train_test_split(\n",
    "    X, y, test_size=0.5, random_state=0)\n",
    "\n",
    "# Set the parameters by cross-validation\n",
    "tuned_parameters = [{'kernel': ['rbf'], 'gamma': [1e-3, 1e-4],\n",
    "                     'C': [1, 10, 100, 1000]},\n",
    "                    {'kernel': ['linear'], 'C': [1, 10, 100, 1000]}]\n",
    "\n",
    "scores = ['precision', 'recall']\n",
    "\n",
    "for score in scores:\n",
    "    print(\"# Tuning hyper-parameters for %s\" % score)\n",
    "    print()\n",
    "\n",
    "    clf = GridSearchCV(SVC(), tuned_parameters, cv=5,\n",
    "                       scoring='%s_macro' % score)\n",
    "    clf.fit(X_train, y_train)\n",
    "\n",
    "    print(\"Best parameters set found on development set:\")\n",
    "    print()\n",
    "    print(clf.best_params_)\n",
    "    print()\n",
    "    print(\"Grid scores on development set:\")\n",
    "    print()\n",
    "    means = clf.cv_results_['mean_test_score']\n",
    "    stds = clf.cv_results_['std_test_score']\n",
    "    for mean, std, params in zip(means, stds, clf.cv_results_['params']):\n",
    "        print(\"%0.3f (+/-%0.03f) for %r\"\n",
    "              % (mean, std * 2, params))\n",
    "    print()\n",
    "\n",
    "    print(\"Detailed classification report:\")\n",
    "    print()\n",
    "    print(\"The model is trained on the full development set.\")\n",
    "    print(\"The scores are computed on the full evaluation set.\")\n",
    "    print()\n",
    "    y_true, y_pred = y_test, clf.predict(X_test)\n",
    "    print(classification_report(y_true, y_pred))\n",
    "    print()\n",
    "\n",
    "# Note the problem is too easy: the hyperparameter plateau is too flat and the\n",
    "# output model is the same for precision and recall with ties in quality.a"
   ]
  }
 ],
 "metadata": {
  "anaconda-cloud": {},
  "kernelspec": {
   "display_name": "Python [default]",
   "language": "python",
   "name": "python3"
  },
  "language_info": {
   "codemirror_mode": {
    "name": "ipython",
    "version": 3
   },
   "file_extension": ".py",
   "mimetype": "text/x-python",
   "name": "python",
   "nbconvert_exporter": "python",
   "pygments_lexer": "ipython3",
   "version": "3.6.5"
  }
 },
 "nbformat": 4,
 "nbformat_minor": 2
}
